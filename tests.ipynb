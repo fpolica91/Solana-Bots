{
 "cells": [
  {
   "cell_type": "code",
   "execution_count": 8,
   "metadata": {},
   "outputs": [
    {
     "name": "stdout",
     "output_type": "stream",
     "text": [
      "\u001b[34mthe profit percentage is 1.79%\u001b[0m\n"
     ]
    }
   ],
   "source": [
    "from termcolor import cprint\n",
    "\n",
    "initial_price = 0.000000280\n",
    "current_price =0.000000285\n",
    "profit_percentage = ((current_price - initial_price) / initial_price) * 100\n",
    "cprint(f\"the profit percentage is {profit_percentage:.2f}%\", \"blue\")\n",
    "\n",
    "\n",
    "\n"
   ]
  }
 ],
 "metadata": {
  "kernelspec": {
   "display_name": "solana-bots-PcDSeSia-py3.13",
   "language": "python",
   "name": "python3"
  },
  "language_info": {
   "codemirror_mode": {
    "name": "ipython",
    "version": 3
   },
   "file_extension": ".py",
   "mimetype": "text/x-python",
   "name": "python",
   "nbconvert_exporter": "python",
   "pygments_lexer": "ipython3",
   "version": "3.13.0"
  }
 },
 "nbformat": 4,
 "nbformat_minor": 2
}
